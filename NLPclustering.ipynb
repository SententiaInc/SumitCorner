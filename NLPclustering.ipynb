{
 "cells": [
  {
   "cell_type": "code",
   "execution_count": 2,
   "metadata": {
    "collapsed": false,
    "scrolled": true
   },
   "outputs": [],
   "source": [
    "import os,sys,csv\n",
    "import numpy as np\n",
    "import pandas as pd\n",
    "import matplotlib.pyplot as plt\n",
    "from pylab import *\n",
    "\n",
    "import gensim\n",
    "from gensim.models import word2vec\n",
    "model_path = 'train_data/GoogleNews-vectors-negative300.bin'\n",
    "w2v_model = word2vec.Word2Vec.load_word2vec_format(model_path, binary=True)\n",
    "index2word_set = set(w2v_model.index2word)\n",
    "\n",
    "import re\n",
    "from nltk.corpus import stopwords\n",
    "\n",
    "def clean_sentence(msg):\n",
    "    text = re.sub(\"[^a-zA-Z]\",\" \", msg)\n",
    "    words = text.split()\n",
    "    stops = set(stopwords.words(\"english\"))\n",
    "    word_vec = [w for w in words if not w in stops]\n",
    "    return(word_vec)\n",
    "\n",
    "def load_data(data_path, all_data = True ):\n",
    "    #data_path = '/home/oem26/SumitCorner/test data/'\n",
    "    sf_data = pd.read_csv(data_path+\"statefarm_facebook_statuses.csv\", header=0,sep=\",\" ).fillna('')\n",
    "    fpg_data = pd.read_csv(data_path+\"flotheprogressivegirl_facebook_statuses.csv\", header=0,sep=\",\" ).fillna('')\n",
    "    geico_data = pd.read_csv(data_path+\"geico_facebook_statuses.csv\", header=0,sep=\",\" ).fillna('')\n",
    "    lm_data = pd.read_csv(data_path+\"libertymutual_facebook_statuses.csv\", header=0,sep=\",\" ).fillna('')\n",
    "    nation_data = pd.read_csv(data_path+\"nationwide_facebook_statuses.csv\", header=0,sep=\",\" ).fillna('')\n",
    "    pro_data = pd.read_csv(data_path+\"progressive_facebook_statuses.csv\", header=0,sep=\",\" ).fillna('')\n",
    "\n",
    "    if all_data:\n",
    "        facebook_status = pd.concat([sf_data,fpg_data,geico_data,lm_data,nation_data,pro_data],ignore_index=True)\n",
    "    else:\n",
    "        facebook_status = sf_data\n",
    "    return facebook_status"
   ]
  },
  {
   "cell_type": "code",
   "execution_count": 7,
   "metadata": {
    "collapsed": false
   },
   "outputs": [],
   "source": [
    "facebook_status = load_data('test_data/')\n",
    "num_col = facebook_status.shape[0]\n",
    "comments = np.zeros([num_col,300]) \n",
    "\n",
    "numVec = np.zeros((300,),dtype=\"float32\")\n",
    "denom = 0\n",
    "for i in range(num_col):\n",
    "    word_vec = clean_sentence(facebook_status['status_message'][i])\n",
    "    for word in word_vec:\n",
    "        if word in index2word_set: \n",
    "            denom = denom + 1.\n",
    "            numVec = np.add(numVec,w2v_model[word])\n",
    "    comments[i,:] = np.divide(numVec,denom)\n",
    "    \n",
    "from sklearn.cluster import KMeans\n",
    "num_clusters = 5\n",
    "kmeans = KMeans( n_clusters = num_clusters , random_state = 701 )\n",
    "idx = kmeans.fit_predict( comments )\n",
    "np.savetxt('idx.data',idx)"
   ]
  },
  {
   "cell_type": "code",
   "execution_count": null,
   "metadata": {
    "collapsed": false
   },
   "outputs": [],
   "source": [
    "#for i in range(num_clusters):\n",
    "#    print 'cluster %d: %s'%(i,str(w2v_model.most_similar(positive = [kmeans.cluster_centers_[i]],topn=1)[0][0]))\n",
    "#    #print 'cluster %d:'%i\n",
    "#    print unlabeled_train['status_message'][idx == i]\n",
    "#    print '\\n'"
   ]
  },
  {
   "cell_type": "code",
   "execution_count": 13,
   "metadata": {
    "collapsed": false,
    "scrolled": true
   },
   "outputs": [
    {
     "data": {
      "text/plain": [
       "'/home/oem26/SumitCorner/train_data/GoogleNews-vectors-negative300.bin'"
      ]
     },
     "execution_count": 13,
     "metadata": {},
     "output_type": "execute_result"
    }
   ],
   "source": []
  }
 ],
 "metadata": {
  "kernelspec": {
   "display_name": "Python 2",
   "language": "python",
   "name": "python2"
  },
  "language_info": {
   "codemirror_mode": {
    "name": "ipython",
    "version": 2
   },
   "file_extension": ".py",
   "mimetype": "text/x-python",
   "name": "python",
   "nbconvert_exporter": "python",
   "pygments_lexer": "ipython2",
   "version": "2.7.11"
  }
 },
 "nbformat": 4,
 "nbformat_minor": 0
}
